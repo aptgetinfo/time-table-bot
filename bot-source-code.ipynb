{
 "cells": [
  {
   "cell_type": "markdown",
   "metadata": {},
   "source": [
    "# Bot-Source-Code"
   ]
  },
  {
   "cell_type": "markdown",
   "metadata": {},
   "source": [
    "## Importing libraries"
   ]
  },
  {
   "cell_type": "code",
   "execution_count": 18,
   "metadata": {},
   "outputs": [],
   "source": [
    "import numpy as np                          ##used for making arrays\n",
    "import discord                              ##importing the discord client\n",
    "import os                                   ##used for importing the token while keeping it private in a file(in this case .env)\n",
    "from keep_alive import keep_alive           ##calling the keep_alive function from keep_alive.py/.ipynb"
   ]
  },
  {
   "cell_type": "markdown",
   "metadata": {},
   "source": [
    "## 2d-Array "
   ]
  },
  {
   "cell_type": "code",
   "execution_count": null,
   "metadata": {},
   "outputs": [],
   "source": [
    "timetable= np.array([\n",
    "                [\"DAY-ORDER\",1,2,3,4,5,6],\n",
    "                [\"9:00-10:00\",\"SEMICONDUCTOR\",\"MATHS\",\"ENGLISH\",\"BEEE\",\"PSP\",\"EGD\"],\n",
    "                [\"10:00-10:40\",\"MATHS\",\"MATHS\",\"ENGLISH\",\"BEEE\",\"PSP\",\"EGD\"],\n",
    "                [\"11:00-12:00\",\"COI\",\"SEMICONDUCTOR\",\"MATHS\",\"ENGLISH\",\"BEEE\",\"PSP\"],\n",
    "                [\"13:00-14:00\",\"EGD\",\"EGD\",\"BEEE\",\"SEMICONDUCTOR\",\"MATHS\",\"ENGLISH\"],\n",
    "                [\"14:00-14:30\",\"SEMICONDUCTOR_LAB\",\"EGD_LAB\",\"BEEE_LAB\",\"YOGA\",\"OVER\",\"OVER\"],\n",
    "                [\"14:30-15:30\",\"SEMICONDUCTOR_LAB\",\"EGD_LAB\",\"BEEE_LAB\",\"YOGA\",\"OVER\",\"OVER\"]]).T"
   ]
  },
  {
   "cell_type": "markdown",
   "metadata": {},
   "source": [
    "## Feeding Data to variables"
   ]
  },
  {
   "cell_type": "code",
   "execution_count": null,
   "metadata": {},
   "outputs": [],
   "source": [
    "day1=timetable[0:2:1,1:].T\n",
    "day2=timetable[0:3:2,1:].T\n",
    "day3=timetable[0:4:3,1:].T\n",
    "day4=timetable[0:5:4,1:].T\n",
    "day5=timetable[0:6:5,1:].T\n",
    "day6=timetable[0:7:6,1:].T\n",
    "day7=timetable[0:8:7,1:].T\n",
    "help= \"\"\"Type \"day1\",\"day2\" or \"day4\" with respect to the current day order.This bot is still UNDER CONSTRUCTION so For suggestions Contact @admins/@arpan/@deepak\"\"\""
   ]
  },
  {
   "cell_type": "markdown",
   "metadata": {},
   "source": [
    "## DISCORD-API"
   ]
  },
  {
   "cell_type": "code",
   "execution_count": null,
   "metadata": {},
   "outputs": [],
   "source": [
    "client=discord.Client() ##CALLING THE CLIENT\n",
    "\n",
    "\n",
    "\n",
    "@client.event\n",
    "async def on_ready():\n",
    "  print('Under Construction by {0.user}'.format(client)) ##MAKING THE BOT READY/ONLINE\n",
    "\n",
    "@client.event\n",
    "async def on_message(message):\n",
    "  if message.author == client.user:\n",
    "    return\n",
    "\n",
    "  if message.content.startswith('day1'):      ##SEND-GET-REQUEST\n",
    "    await message.channel.send(day1)\n",
    "  \n",
    "  if message.content.startswith('day2'):\n",
    "    await message.channel.send(day2)\n",
    "\n",
    "  if message.content.startswith('day3'):\n",
    "    await message.channel.send(day3)\n",
    "\n",
    "  if message.content.startswith('day4'):\n",
    "    await message.channel.send(day4)            ##SEND-GET-REQUEST\n",
    "\n",
    "  if message.content.startswith('day5'):\n",
    "    await message.channel.send(day5)\n",
    "\n",
    "  if message.content.startswith('day6'):\n",
    "    await message.channel.send(day6)\n",
    "  \n",
    "  if message.content.startswith('day-order'):\n",
    "    await message.channel.send(timetable)          ##SEND-GET-REQUEST\n",
    "\n",
    "  if message.content.startswith('help'):\n",
    "    await message.channel.send(help)\n",
    "\n"
   ]
  },
  {
   "cell_type": "markdown",
   "metadata": {},
   "source": [
    "## Calling the function to keep the web server alive"
   ]
  },
  {
   "cell_type": "code",
   "execution_count": null,
   "metadata": {},
   "outputs": [],
   "source": [
    "keep_alive()      ##flask is used for making the web server,code could be found in the github file named keeping_alive.py/.ipynb"
   ]
  },
  {
   "cell_type": "markdown",
   "metadata": {},
   "source": [
    "## Providing the token to the client for safe running"
   ]
  },
  {
   "cell_type": "code",
   "execution_count": null,
   "metadata": {},
   "outputs": [],
   "source": [
    "client.run(os.getenv('TOKEN'))"
   ]
  }
 ],
 "metadata": {
  "kernelspec": {
   "display_name": "Python 3",
   "language": "python",
   "name": "python3"
  },
  "language_info": {
   "codemirror_mode": {
    "name": "ipython",
    "version": 3
   },
   "file_extension": ".py",
   "mimetype": "text/x-python",
   "name": "python",
   "nbconvert_exporter": "python",
   "pygments_lexer": "ipython3",
   "version": "3.8.5"
  }
 },
 "nbformat": 4,
 "nbformat_minor": 4
}
