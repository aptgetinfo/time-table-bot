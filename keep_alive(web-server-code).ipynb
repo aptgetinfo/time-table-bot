{
 "cells": [
  {
   "cell_type": "markdown",
   "metadata": {},
   "source": [
    "# WEB-SERVER code"
   ]
  },
  {
   "cell_type": "code",
   "execution_count": null,
   "metadata": {},
   "outputs": [],
   "source": [
    "from flask import Flask\n",
    "from threading import Thread\n",
    "\n",
    "app=Flask('')\n",
    "\n",
    "\n",
    "@app.route('/')\n",
    "def home():\n",
    "  return \"hello. i am alive\"\n",
    "\n",
    "\n",
    "def run():\n",
    "  app.run(host='0.0.0.0',port=8080)\n",
    "\n",
    "\n",
    "def keep_alive():\n",
    "  t= Thread(target=run)\n",
    "  t.start()"
   ]
  }
 ],
 "metadata": {
  "kernelspec": {
   "display_name": "Python 3",
   "language": "python",
   "name": "python3"
  },
  "language_info": {
   "codemirror_mode": {
    "name": "ipython",
    "version": 3
   },
   "file_extension": ".py",
   "mimetype": "text/x-python",
   "name": "python",
   "nbconvert_exporter": "python",
   "pygments_lexer": "ipython3",
   "version": "3.8.5"
  }
 },
 "nbformat": 4,
 "nbformat_minor": 4
}
